{
 "cells": [
  {
   "cell_type": "markdown",
   "id": "6c1a9916-17b8-4d8b-8d89-074b881a70bb",
   "metadata": {},
   "source": [
    "Iniciar sessão spark"
   ]
  },
  {
   "cell_type": "code",
   "execution_count": 2,
   "id": "ff7402a0-42f5-4e0d-9459-c32c3f15b0ce",
   "metadata": {},
   "outputs": [],
   "source": [
    "from pyspark.sql import SparkSession\n",
    "spark = SparkSession.builder.getOrCreate()"
   ]
  },
  {
   "cell_type": "markdown",
   "id": "85a5c7e1-1c3b-43cd-a632-45ad90381012",
   "metadata": {},
   "source": [
    "Após inicializar sessão spark, acessar http://localhost:4040"
   ]
  }
 ],
 "metadata": {
  "kernelspec": {
   "display_name": "Python 3 (ipykernel)",
   "language": "python",
   "name": "python3"
  },
  "language_info": {
   "codemirror_mode": {
    "name": "ipython",
    "version": 3
   },
   "file_extension": ".py",
   "mimetype": "text/x-python",
   "name": "python",
   "nbconvert_exporter": "python",
   "pygments_lexer": "ipython3",
   "version": "3.11.6"
  }
 },
 "nbformat": 4,
 "nbformat_minor": 5
}
