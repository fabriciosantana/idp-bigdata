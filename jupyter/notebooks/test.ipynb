{
 "cells": [
  {
   "cell_type": "code",
   "execution_count": 3,
   "id": "9c360004-e430-4311-97b2-e10885d797d4",
   "metadata": {},
   "outputs": [],
   "source": [
    "import redis\n",
    "r = redis.Redis(host='localhost', port=6379, db=0, password=\"redis_password\")"
   ]
  },
  {
   "cell_type": "code",
   "execution_count": 6,
   "id": "3851d1d0-d91a-476c-ba94-0e00ff620bd2",
   "metadata": {},
   "outputs": [
    {
     "data": {
      "text/plain": [
       "True"
      ]
     },
     "execution_count": 6,
     "metadata": {},
     "output_type": "execute_result"
    }
   ],
   "source": [
    "r.set(\"name\", \"yingshaoxo\")"
   ]
  },
  {
   "cell_type": "code",
   "execution_count": 8,
   "id": "1159998f-7802-4dcd-aa66-8f28ab7882ea",
   "metadata": {},
   "outputs": [
    {
     "data": {
      "text/plain": [
       "b'yingshaoxo'"
      ]
     },
     "execution_count": 8,
     "metadata": {},
     "output_type": "execute_result"
    }
   ],
   "source": [
    "r.get('name')"
   ]
  },
  {
   "cell_type": "code",
   "execution_count": 10,
   "id": "f335a921-ad86-44f4-b3cc-0b11e1bd20a4",
   "metadata": {},
   "outputs": [
    {
     "data": {
      "text/plain": [
       "True"
      ]
     },
     "execution_count": 10,
     "metadata": {},
     "output_type": "execute_result"
    }
   ],
   "source": [
    "r.expire(\"name\", 3)"
   ]
  },
  {
   "cell_type": "code",
   "execution_count": 12,
   "id": "5fe97719-37a9-4fc5-8b26-3ea708998426",
   "metadata": {},
   "outputs": [
    {
     "data": {
      "text/plain": [
       "True"
      ]
     },
     "execution_count": 12,
     "metadata": {},
     "output_type": "execute_result"
    }
   ],
   "source": [
    "r.get('name')"
   ]
  },
  {
   "cell_type": "code",
   "execution_count": null,
   "id": "68c634b7-1670-4c6c-bce0-74a2fb5bca43",
   "metadata": {},
   "outputs": [],
   "source": []
  }
 ],
 "metadata": {
  "kernelspec": {
   "display_name": "Python 3",
   "language": "python",
   "name": "python3"
  },
  "language_info": {
   "codemirror_mode": {
    "name": "ipython",
    "version": 3
   },
   "file_extension": ".py",
   "mimetype": "text/x-python",
   "name": "python",
   "nbconvert_exporter": "python",
   "pygments_lexer": "ipython3",
   "version": "3.8.6"
  }
 },
 "nbformat": 4,
 "nbformat_minor": 5
}
