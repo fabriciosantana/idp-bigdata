{
 "cells": [
  {
   "cell_type": "code",
   "execution_count": 1,
   "id": "6cddfa2e-f0bb-406b-af40-dfa14c8efeea",
   "metadata": {},
   "outputs": [
    {
     "name": "stdout",
     "output_type": "stream",
     "text": [
      "Collecting redis\n",
      "  Downloading redis-5.0.3-py3-none-any.whl.metadata (9.3 kB)\n",
      "Downloading redis-5.0.3-py3-none-any.whl (251 kB)\n",
      "\u001b[2K   \u001b[90m━━━━━━━━━━━━━━━━━━━━━━━━━━━━━━━━━━━━━━━\u001b[0m \u001b[32m251.8/251.8 kB\u001b[0m \u001b[31m212.3 kB/s\u001b[0m eta \u001b[36m0:00:00\u001b[0ma \u001b[36m0:00:01\u001b[0m\n",
      "\u001b[?25hInstalling collected packages: redis\n",
      "Successfully installed redis-5.0.3\n",
      "Note: you may need to restart the kernel to use updated packages.\n"
     ]
    }
   ],
   "source": [
    "pip install redis"
   ]
  },
  {
   "cell_type": "markdown",
   "id": "73e480a6-3d80-4f01-8227-d02975a8786a",
   "metadata": {},
   "source": [
    "Aplicação de Cache em Tempo Real com Redis"
   ]
  },
  {
   "cell_type": "code",
   "execution_count": 2,
   "id": "d828ff62-24db-4d89-acc6-b2477753fc5d",
   "metadata": {},
   "outputs": [],
   "source": [
    "import redis\n",
    "import time"
   ]
  },
  {
   "cell_type": "markdown",
   "id": "6d690cd1-8502-4c29-a9c6-c0c0943cb244",
   "metadata": {},
   "source": [
    "Conexão com o servidor Redis (ajuste o host e a porta conforme necessário)"
   ]
  },
  {
   "cell_type": "code",
   "execution_count": 3,
   "id": "268e5dcf-03b4-438f-82f2-b971261f825a",
   "metadata": {},
   "outputs": [],
   "source": [
    "r = redis.Redis(host='redis-redis-1', port=6379, db=0)"
   ]
  },
  {
   "cell_type": "markdown",
   "id": "8ac12141-e760-4493-8a07-0ee8aed08fa0",
   "metadata": {},
   "source": [
    "Definindo uma chave com um valor e um tempo de expiração (em segundos)"
   ]
  },
  {
   "cell_type": "code",
   "execution_count": 4,
   "id": "32535867-83c9-4be0-95fe-60dbfa315f86",
   "metadata": {},
   "outputs": [
    {
     "data": {
      "text/plain": [
       "True"
      ]
     },
     "execution_count": 4,
     "metadata": {},
     "output_type": "execute_result"
    }
   ],
   "source": [
    "r.setex(\"chave\", 30, \"valor\")"
   ]
  },
  {
   "cell_type": "markdown",
   "id": "1d0b5dc6-1d11-4c6f-a65b-a94444063ec2",
   "metadata": {},
   "source": [
    "Recuperando o valor da chave"
   ]
  },
  {
   "cell_type": "code",
   "execution_count": 5,
   "id": "d5c0ef3c-fcd4-4b10-b9e6-85e2802a4e90",
   "metadata": {},
   "outputs": [
    {
     "name": "stdout",
     "output_type": "stream",
     "text": [
      "Valor recuperado: b'valor'\n"
     ]
    }
   ],
   "source": [
    "valor = r.get(\"chave\")\n",
    "print(\"Valor recuperado:\", valor)"
   ]
  },
  {
   "cell_type": "markdown",
   "id": "2f96fa4f-3c45-4e8c-8048-aadb17845357",
   "metadata": {},
   "source": [
    "Simulando um atraso para demonstrar a expiração"
   ]
  },
  {
   "cell_type": "code",
   "execution_count": null,
   "id": "72a4ac04-3365-47f9-8417-1b1fee100002",
   "metadata": {},
   "outputs": [],
   "source": [
    "time.sleep(31)\n",
    "valor_apos_expiracao = r.get(\"chave\")\n",
    "print(\"Valor após expiração:\", valor_apos_expiracao)"
   ]
  },
  {
   "cell_type": "code",
   "execution_count": 10,
   "id": "2934a3eb-0ff3-46d2-87bc-2bfbca21558d",
   "metadata": {},
   "outputs": [
    {
     "data": {
      "text/plain": [
       "2"
      ]
     },
     "execution_count": 10,
     "metadata": {},
     "output_type": "execute_result"
    }
   ],
   "source": [
    "r.lpush(\"fila\", \"mensagem 1\")\n",
    "r.lpush(\"fila\", \"mensagem 2\")"
   ]
  },
  {
   "cell_type": "code",
   "execution_count": 9,
   "id": "6e3391f8-76e7-4122-924a-aae43b32c86c",
   "metadata": {},
   "outputs": [
    {
     "name": "stdout",
     "output_type": "stream",
     "text": [
      "Mensagem recebida: b'mensagem 1'\n",
      "Mensagem recebida: b'mensagem 2'\n",
      "Mensagem recebida: b'mensagem 1'\n",
      "Mensagem recebida: b'mensagem 2'\n",
      "Nenhuma mensagem nova.\n"
     ]
    }
   ],
   "source": [
    "while True:\n",
    "    mensagem = r.brpop(\"fila\", 5)  # Aguarda 5 segundos por uma mensagem\n",
    "    if mensagem:\n",
    "        print(\"Mensagem recebida:\", mensagem[1])\n",
    "    else:\n",
    "        print(\"Nenhuma mensagem nova.\")\n",
    "        break"
   ]
  },
  {
   "cell_type": "code",
   "execution_count": null,
   "id": "b7a823cc-9360-48ba-a707-f8acef187e70",
   "metadata": {},
   "outputs": [],
   "source": []
  }
 ],
 "metadata": {
  "kernelspec": {
   "display_name": "Python 3 (ipykernel)",
   "language": "python",
   "name": "python3"
  },
  "language_info": {
   "codemirror_mode": {
    "name": "ipython",
    "version": 3
   },
   "file_extension": ".py",
   "mimetype": "text/x-python",
   "name": "python",
   "nbconvert_exporter": "python",
   "pygments_lexer": "ipython3",
   "version": "3.11.6"
  }
 },
 "nbformat": 4,
 "nbformat_minor": 5
}
